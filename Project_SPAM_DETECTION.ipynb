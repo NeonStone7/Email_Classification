{
 "cells": [
  {
   "cell_type": "markdown",
   "id": "97e0d24e",
   "metadata": {},
   "source": [
    "### SPAM EMAIL DETECTION: CLASSIFICATION AND NATURAL LANGUAGE PROCESSING"
   ]
  },
  {
   "cell_type": "markdown",
   "id": "b3951f57",
   "metadata": {},
   "source": [
    "Deciding which class an email belongs to, spam or not spam is a classification problem. Solving this requires the use of supervised machine learning. Our dataset is a collection of emails that have already been labeled as spam or ham. Our model will learn to classify an email as spam or not depending on the contents of the email.<br>\n",
    "This project utilizes the Bernoulli Naive Bayes algorithm."
   ]
  },
  {
   "cell_type": "markdown",
   "id": "3bd4ef36",
   "metadata": {},
   "source": [
    "### ABOUT THE ALGORITHM\n",
    "Naive Bayes is a classification algorithm of Machine Learning based on Bayes theorem which gives the likelihood of occurrence of the event. Naive Bayes classifier is a probabilistic classifier which means that given an input, it predicts the probability of the input being classified for all the classes. It is also called conditional probability.<BR>\n",
    "    \n",
    "Two important assumptions made for Naive Bayes Classifier:\n",
    "•\tFirst is that the attributes are independent of each other and does not affect each others performance, this is the reason it is called 'naive'.\n",
    "•\tSecond is that all the features are given equal importance. For example if there are 10 features, knowing only 5 features will not give us accurate outcome. All features are necessary to predict outcome and are given equal importance.<BR>\n",
    "\n",
    "Bayes theorem can be used for many real life scenarios like spam detection, credit card fraud detection, disease detection, sentiment analysis and many more.<BR>\n",
    "    \n",
    "There are three types of Naive Bayes Classifiers:<BR>\n",
    "    1.\tMultinomial Naive Bayes - Widely used classifier for document classification which keeps the count of frequent words present in the documents.<BR>\n",
    "    2.\tBernoulli Naive Bayes - Used for discrete data, where features are only in binary form.<BR>\n",
    "    3.\tGaussian Naive Bayes - Used when we are dealing with continuous data and uses Gaussian distribution.<BR>\n",
    "    \n",
    "  Bernoulli Naive Bayes <BR>\n",
    "This is used for discrete data and it works on Bernoulli distribution. The main feature of Bernoulli Naive Bayes is that it accepts features only as binary values like true or false, yes or no, success or failure, 0 or 1 and so on. So when the feature values are binary we know that we have to use Bernoulli Naive Bayes classifier.<BR>\n",
    "    \n",
    "Bernoulli distribution<BR>\n",
    "As we deal with binary values, let's consider 'p' as probability of success and 'q' as probability of failure and q=1-p\n",
    "For a random variable 'X' in Bernoulli distribution,\n",
    " \n",
    "where 'x' can have only two values either 0 or 1\n",
    "Bernoulli Naive Bayes Classifier is based on the following rule:\n",
    "P ( x i ∣ y ) = P ( i ∣ y ) x i + ( 1 − P ( i ∣ y ) ) ( 1 − x i ) <BR>\n",
    "\n",
    "\n",
    "Advantages of Bernoulli Naive Bayes:<BR>\n",
    "1.\tThey are extremely fast as compared to other classification models and are able to make real-time predictions.<BR>\n",
    "2.\tAs in Bernoulli Naive Bayes each feature is treated independently with binary values only, it explicitly gives penalty to the model for non-occurrence of any of the features which are necessary for predicting the output y. And the other multinomial variant of Naive Bayes ignores this features instead of penalizing.<BR>\n",
    "3.\tIn case of small amount of data or small documents(for example in text classification), Bernoulli Naive Bayes gives more accurate and precise results as compared to other models.<BR>\n",
    "4.\tIt can handle irrelevant features nicely and results are self explanatory.<BR>\n",
    "    \n",
    "    \n",
    "Disdvantages of Bernoulli Naive Bayes:\n",
    "1.\tBeing a naive(showing a lack of experience) classifier, it sometimes makes a strong assumption based on the shape of data.<BR>\n",
    "2.\tIf at times the features are dependent on each other then Naive Bayes assumptions can affect the prediction and accuracy of the model and is sensitive to the given input data.<BR>\n",
    "3.\tIf there is a categorial variable which is not present in training dataset, it results in zero frequency problem. This problem can be easily solved by Laplace estimation.<BR>\n",
    "From all the above we can see Bernoulli Naive Bayes is a very good classifier for problems where the features are binary. It gives very good accuracy and can be esaily trained."
   ]
  },
  {
   "cell_type": "markdown",
   "id": "4600da02",
   "metadata": {},
   "source": [
    "## About the dataset\n",
    "\n",
    "The csv file contains 5568 rows, each row for each email. There are 2 columns. The first column indicates the labels for prediction : spam,and ham for not spam. The last column has the contents of the email."
   ]
  },
  {
   "cell_type": "code",
   "execution_count": 1,
   "id": "b26ac9f2",
   "metadata": {},
   "outputs": [],
   "source": [
    "import matplotlib.pyplot as plt\n",
    "import matplotlib as mpl\n",
    "\n",
    "import warnings\n",
    "from glob import glob#library that helps us search for files\n",
    "import joblib\n",
    "\n",
    "import numpy as np\n",
    "import pandas as pd\n",
    "import seaborn as sns\n",
    "from category_encoders import OneHotEncoder\n",
    "from sklearn.naive_bayes import BernoulliNB  \n",
    "from sklearn.metrics import classification_report\n",
    "from sklearn.pipeline import make_pipeline\n",
    "from sklearn.utils.validation import check_is_fitted\n",
    "from sklearn.metrics import accuracy_score\n",
    "from sklearn.impute import SimpleImputer\n",
    "from sklearn.model_selection import train_test_split\n",
    "from sklearn.feature_extraction.text import CountVectorizer\n",
    "from sklearn.linear_model import LogisticRegression\n",
    "\n",
    "warnings.simplefilter(action=\"ignore\", category=FutureWarning)\n"
   ]
  },
  {
   "cell_type": "code",
   "execution_count": 2,
   "id": "257f6f51",
   "metadata": {},
   "outputs": [
    {
     "data": {
      "text/html": [
       "<div>\n",
       "<style scoped>\n",
       "    .dataframe tbody tr th:only-of-type {\n",
       "        vertical-align: middle;\n",
       "    }\n",
       "\n",
       "    .dataframe tbody tr th {\n",
       "        vertical-align: top;\n",
       "    }\n",
       "\n",
       "    .dataframe thead th {\n",
       "        text-align: right;\n",
       "    }\n",
       "</style>\n",
       "<table border=\"1\" class=\"dataframe\">\n",
       "  <thead>\n",
       "    <tr style=\"text-align: right;\">\n",
       "      <th></th>\n",
       "      <th>Target</th>\n",
       "      <th>Text</th>\n",
       "    </tr>\n",
       "  </thead>\n",
       "  <tbody>\n",
       "    <tr>\n",
       "      <th>0</th>\n",
       "      <td>ham</td>\n",
       "      <td>Go until jurong point, crazy.. Available only ...</td>\n",
       "    </tr>\n",
       "    <tr>\n",
       "      <th>1</th>\n",
       "      <td>ham</td>\n",
       "      <td>Ok lar... Joking wif u oni...</td>\n",
       "    </tr>\n",
       "    <tr>\n",
       "      <th>2</th>\n",
       "      <td>spam</td>\n",
       "      <td>Free entry in 2 a wkly comp to win FA Cup fina...</td>\n",
       "    </tr>\n",
       "    <tr>\n",
       "      <th>3</th>\n",
       "      <td>ham</td>\n",
       "      <td>U dun say so early hor... U c already then say...</td>\n",
       "    </tr>\n",
       "    <tr>\n",
       "      <th>4</th>\n",
       "      <td>ham</td>\n",
       "      <td>Nah I don't think he goes to usf, he lives aro...</td>\n",
       "    </tr>\n",
       "  </tbody>\n",
       "</table>\n",
       "</div>"
      ],
      "text/plain": [
       "  Target                                               Text\n",
       "0    ham  Go until jurong point, crazy.. Available only ...\n",
       "1    ham                      Ok lar... Joking wif u oni...\n",
       "2   spam  Free entry in 2 a wkly comp to win FA Cup fina...\n",
       "3    ham  U dun say so early hor... U c already then say...\n",
       "4    ham  Nah I don't think he goes to usf, he lives aro..."
      ]
     },
     "execution_count": 2,
     "metadata": {},
     "output_type": "execute_result"
    }
   ],
   "source": [
    "df=pd.read_csv(\"/Users/bambino/Documents/DATASETS/spaamemail.csv.xls\").rename(columns={'v1':'Target','v2':'Text'})\n",
    "df.drop(['Unnamed: 2','Unnamed: 3','Unnamed: 4'],axis=1,inplace=True)\n",
    "df.head()"
   ]
  },
  {
   "cell_type": "code",
   "execution_count": 3,
   "id": "38e4f6f2",
   "metadata": {},
   "outputs": [
    {
     "data": {
      "image/png": "[encoded data removed]",
      "text/plain": [
       "<Figure size 432x288 with 1 Axes>"
      ]
     },
     "metadata": {},
     "output_type": "display_data"
    }
   ],
   "source": [
    "df['Target'].value_counts().plot(kind='pie',autopct='%0.0f%%',shadow=True,colors=['Purple','k'])\n",
    "\n",
    "circle=plt.Circle((0,0),0.70,fc='white')\n",
    "fig=plt.gcf()\n",
    "fig.gca().add_artist(circle)\n",
    "\n",
    "plt.title('Ratio of Spam to Ham emails');"
   ]
  },
  {
   "cell_type": "markdown",
   "id": "10fae0df",
   "metadata": {},
   "source": [
    "Our data is in text form, unfortunately, machines don't understand text as we do, However, they are excellent calculators so we need to convert our text into a structure machines can understand, vectors.<br>\n",
    "\n",
    "The first step of vectorization is tokenization. Tokenization is the process of chopping a document into pieces(called tokens) of a specified length. A token is an instance of a sequence of characters grouped together as a useful semantic unit for processing, it is the meaningful bit of language we want our model to learn from. Tokens are usually arrays of strings. These arrays are then converted to vectors through a process called Vectorization.\n",
    "\n",
    "Vectorization is the process of mapping words into numeric values. Scikit-Learn's CountVectorizer helps with this. Any document can be encoded as a fixed length vector with the length of vocabulary of known words. In this project, the vector will be the length of distinct words. \n",
    "\n",
    "Sometimes, when the email contents are a lot, the vectors can become long and cumbersome during calculations. To solve this, we need to shrink the corpus without loosing much meaningful data. \n",
    "\n",
    "Once we've vectorized our corpus with the CountVectorizer, we move to stopwords. Stopwords are common words that od little to no value in determining whether a message is spam or not. In scikitlearn's countvectorizer, there is an option for corpus specific stopwords, you can pass an array of stopwords or automate the process with the minimum and mmaximum document frequnecy arguments.\n",
    "\n",
    "The CountVectorizer tokenizes, vectorizes and creates a stoplist, all we need to do is to add it to our pipeline. A ML Pipeline helps to automate ML workflows."
   ]
  },
  {
   "cell_type": "markdown",
   "id": "c839a48c",
   "metadata": {},
   "source": [
    "### DATA SPLITTING AND ML PIPELINE"
   ]
  },
  {
   "cell_type": "code",
   "execution_count": 4,
   "id": "900925e2",
   "metadata": {},
   "outputs": [],
   "source": [
    "X=df['Text']\n",
    "y=df['Target']      "
   ]
  },
  {
   "cell_type": "code",
   "execution_count": 5,
   "id": "24019009",
   "metadata": {},
   "outputs": [],
   "source": [
    "X_train,X_test,y_train,y_test=train_test_split(X,y, test_size=0.2,random_state=21)"
   ]
  },
  {
   "cell_type": "code",
   "execution_count": 6,
   "id": "efb8b480",
   "metadata": {},
   "outputs": [
    {
     "data": {
      "text/plain": [
       "((4454,), (1114,), (4454,), (1114,))"
      ]
     },
     "execution_count": 6,
     "metadata": {},
     "output_type": "execute_result"
    }
   ],
   "source": [
    "X_train.shape,X_test.shape,y_train.shape,y_test.shape"
   ]
  },
  {
   "cell_type": "markdown",
   "id": "dbb0986c",
   "metadata": {},
   "source": [
    "#### Bernoulli_pipeline"
   ]
  },
  {
   "cell_type": "code",
   "execution_count": 7,
   "id": "0f2a1d64",
   "metadata": {},
   "outputs": [],
   "source": [
    "bernoulli_pipeline=make_pipeline(CountVectorizer(binary=True),BernoulliNB(alpha=0.000006))"
   ]
  },
  {
   "cell_type": "code",
   "execution_count": 8,
   "id": "69cc59ce",
   "metadata": {},
   "outputs": [
    {
     "data": {
      "text/html": [
       "<style>#sk-container-id-1 {color: black;background-color: white;}#sk-container-id-1 pre{padding: 0;}#sk-container-id-1 div.sk-toggleable {background-color: white;}#sk-container-id-1 label.sk-toggleable__label {cursor: pointer;display: block;width: 100%;margin-bottom: 0;padding: 0.3em;box-sizing: border-box;text-align: center;}#sk-container-id-1 label.sk-toggleable__label-arrow:before {content: \"▸\";float: left;margin-right: 0.25em;color: #696969;}#sk-container-id-1 label.sk-toggleable__label-arrow:hover:before {color: black;}#sk-container-id-1 div.sk-estimator:hover label.sk-toggleable__label-arrow:before {color: black;}#sk-container-id-1 div.sk-toggleable__content {max-height: 0;max-width: 0;overflow: hidden;text-align: left;background-color: #f0f8ff;}#sk-container-id-1 div.sk-toggleable__content pre {margin: 0.2em;color: black;border-radius: 0.25em;background-color: #f0f8ff;}#sk-container-id-1 input.sk-toggleable__control:checked~div.sk-toggleable__content {max-height: 200px;max-width: 100%;overflow: auto;}#sk-container-id-1 input.sk-toggleable__control:checked~label.sk-toggleable__label-arrow:before {content: \"▾\";}#sk-container-id-1 div.sk-estimator input.sk-toggleable__control:checked~label.sk-toggleable__label {background-color: #d4ebff;}#sk-container-id-1 div.sk-label input.sk-toggleable__control:checked~label.sk-toggleable__label {background-color: #d4ebff;}#sk-container-id-1 input.sk-hidden--visually {border: 0;clip: rect(1px 1px 1px 1px);clip: rect(1px, 1px, 1px, 1px);height: 1px;margin: -1px;overflow: hidden;padding: 0;position: absolute;width: 1px;}#sk-container-id-1 div.sk-estimator {font-family: monospace;background-color: #f0f8ff;border: 1px dotted black;border-radius: 0.25em;box-sizing: border-box;margin-bottom: 0.5em;}#sk-container-id-1 div.sk-estimator:hover {background-color: #d4ebff;}#sk-container-id-1 div.sk-parallel-item::after {content: \"\";width: 100%;border-bottom: 1px solid gray;flex-grow: 1;}#sk-container-id-1 div.sk-label:hover label.sk-toggleable__label {background-color: #d4ebff;}#sk-container-id-1 div.sk-serial::before {content: \"\";position: absolute;border-left: 1px solid gray;box-sizing: border-box;top: 0;bottom: 0;left: 50%;z-index: 0;}#sk-container-id-1 div.sk-serial {display: flex;flex-direction: column;align-items: center;background-color: white;padding-right: 0.2em;padding-left: 0.2em;position: relative;}#sk-container-id-1 div.sk-item {position: relative;z-index: 1;}#sk-container-id-1 div.sk-parallel {display: flex;align-items: stretch;justify-content: center;background-color: white;position: relative;}#sk-container-id-1 div.sk-item::before, #sk-container-id-1 div.sk-parallel-item::before {content: \"\";position: absolute;border-left: 1px solid gray;box-sizing: border-box;top: 0;bottom: 0;left: 50%;z-index: -1;}#sk-container-id-1 div.sk-parallel-item {display: flex;flex-direction: column;z-index: 1;position: relative;background-color: white;}#sk-container-id-1 div.sk-parallel-item:first-child::after {align-self: flex-end;width: 50%;}#sk-container-id-1 div.sk-parallel-item:last-child::after {align-self: flex-start;width: 50%;}#sk-container-id-1 div.sk-parallel-item:only-child::after {width: 0;}#sk-container-id-1 div.sk-dashed-wrapped {border: 1px dashed gray;margin: 0 0.4em 0.5em 0.4em;box-sizing: border-box;padding-bottom: 0.4em;background-color: white;}#sk-container-id-1 div.sk-label label {font-family: monospace;font-weight: bold;display: inline-block;line-height: 1.2em;}#sk-container-id-1 div.sk-label-container {text-align: center;}#sk-container-id-1 div.sk-container {/* jupyter's `normalize.less` sets `[hidden] { display: none; }` but bootstrap.min.css set `[hidden] { display: none !important; }` so we also need the `!important` here to be able to override the default hidden behavior on the sphinx rendered scikit-learn.org. See: https://github.com/scikit-learn/scikit-learn/issues/21755 */display: inline-block !important;position: relative;}#sk-container-id-1 div.sk-text-repr-fallback {display: none;}</style><div id=\"sk-container-id-1\" class=\"sk-top-container\"><div class=\"sk-text-repr-fallback\"><pre>Pipeline(steps=[(&#x27;countvectorizer&#x27;, CountVectorizer(binary=True)),\n",
       "                (&#x27;bernoullinb&#x27;, BernoulliNB(alpha=6e-06))])</pre><b>In a Jupyter environment, please rerun this cell to show the HTML representation or trust the notebook. <br />On GitHub, the HTML representation is unable to render, please try loading this page with nbviewer.org.</b></div><div class=\"sk-container\" hidden><div class=\"sk-item sk-dashed-wrapped\"><div class=\"sk-label-container\"><div class=\"sk-label sk-toggleable\"><input class=\"sk-toggleable__control sk-hidden--visually\" id=\"sk-estimator-id-1\" type=\"checkbox\" ><label for=\"sk-estimator-id-1\" class=\"sk-toggleable__label sk-toggleable__label-arrow\">Pipeline</label><div class=\"sk-toggleable__content\"><pre>Pipeline(steps=[(&#x27;countvectorizer&#x27;, CountVectorizer(binary=True)),\n",
       "                (&#x27;bernoullinb&#x27;, BernoulliNB(alpha=6e-06))])</pre></div></div></div><div class=\"sk-serial\"><div class=\"sk-item\"><div class=\"sk-estimator sk-toggleable\"><input class=\"sk-toggleable__control sk-hidden--visually\" id=\"sk-estimator-id-2\" type=\"checkbox\" ><label for=\"sk-estimator-id-2\" class=\"sk-toggleable__label sk-toggleable__label-arrow\">CountVectorizer</label><div class=\"sk-toggleable__content\"><pre>CountVectorizer(binary=True)</pre></div></div></div><div class=\"sk-item\"><div class=\"sk-estimator sk-toggleable\"><input class=\"sk-toggleable__control sk-hidden--visually\" id=\"sk-estimator-id-3\" type=\"checkbox\" ><label for=\"sk-estimator-id-3\" class=\"sk-toggleable__label sk-toggleable__label-arrow\">BernoulliNB</label><div class=\"sk-toggleable__content\"><pre>BernoulliNB(alpha=6e-06)</pre></div></div></div></div></div></div></div>"
      ],
      "text/plain": [
       "Pipeline(steps=[('countvectorizer', CountVectorizer(binary=True)),\n",
       "                ('bernoullinb', BernoulliNB(alpha=6e-06))])"
      ]
     },
     "execution_count": 8,
     "metadata": {},
     "output_type": "execute_result"
    }
   ],
   "source": [
    "bernoulli_pipeline.fit(X_train,y_train)"
   ]
  },
  {
   "cell_type": "code",
   "execution_count": 9,
   "id": "7a1d0201",
   "metadata": {},
   "outputs": [],
   "source": [
    "y_pred_bn=bernoulli_pipeline.predict(X_test)"
   ]
  },
  {
   "cell_type": "markdown",
   "id": "ea309781",
   "metadata": {},
   "source": [
    "#### Logistic regression"
   ]
  },
  {
   "cell_type": "code",
   "execution_count": 10,
   "id": "b033d987",
   "metadata": {},
   "outputs": [],
   "source": [
    "log_pipeline=make_pipeline(CountVectorizer(binary=True),LogisticRegression())"
   ]
  },
  {
   "cell_type": "code",
   "execution_count": 11,
   "id": "d0344f72",
   "metadata": {},
   "outputs": [
    {
     "data": {
      "text/html": [
       "<style>#sk-container-id-2 {color: black;background-color: white;}#sk-container-id-2 pre{padding: 0;}#sk-container-id-2 div.sk-toggleable {background-color: white;}#sk-container-id-2 label.sk-toggleable__label {cursor: pointer;display: block;width: 100%;margin-bottom: 0;padding: 0.3em;box-sizing: border-box;text-align: center;}#sk-container-id-2 label.sk-toggleable__label-arrow:before {content: \"▸\";float: left;margin-right: 0.25em;color: #696969;}#sk-container-id-2 label.sk-toggleable__label-arrow:hover:before {color: black;}#sk-container-id-2 div.sk-estimator:hover label.sk-toggleable__label-arrow:before {color: black;}#sk-container-id-2 div.sk-toggleable__content {max-height: 0;max-width: 0;overflow: hidden;text-align: left;background-color: #f0f8ff;}#sk-container-id-2 div.sk-toggleable__content pre {margin: 0.2em;color: black;border-radius: 0.25em;background-color: #f0f8ff;}#sk-container-id-2 input.sk-toggleable__control:checked~div.sk-toggleable__content {max-height: 200px;max-width: 100%;overflow: auto;}#sk-container-id-2 input.sk-toggleable__control:checked~label.sk-toggleable__label-arrow:before {content: \"▾\";}#sk-container-id-2 div.sk-estimator input.sk-toggleable__control:checked~label.sk-toggleable__label {background-color: #d4ebff;}#sk-container-id-2 div.sk-label input.sk-toggleable__control:checked~label.sk-toggleable__label {background-color: #d4ebff;}#sk-container-id-2 input.sk-hidden--visually {border: 0;clip: rect(1px 1px 1px 1px);clip: rect(1px, 1px, 1px, 1px);height: 1px;margin: -1px;overflow: hidden;padding: 0;position: absolute;width: 1px;}#sk-container-id-2 div.sk-estimator {font-family: monospace;background-color: #f0f8ff;border: 1px dotted black;border-radius: 0.25em;box-sizing: border-box;margin-bottom: 0.5em;}#sk-container-id-2 div.sk-estimator:hover {background-color: #d4ebff;}#sk-container-id-2 div.sk-parallel-item::after {content: \"\";width: 100%;border-bottom: 1px solid gray;flex-grow: 1;}#sk-container-id-2 div.sk-label:hover label.sk-toggleable__label {background-color: #d4ebff;}#sk-container-id-2 div.sk-serial::before {content: \"\";position: absolute;border-left: 1px solid gray;box-sizing: border-box;top: 0;bottom: 0;left: 50%;z-index: 0;}#sk-container-id-2 div.sk-serial {display: flex;flex-direction: column;align-items: center;background-color: white;padding-right: 0.2em;padding-left: 0.2em;position: relative;}#sk-container-id-2 div.sk-item {position: relative;z-index: 1;}#sk-container-id-2 div.sk-parallel {display: flex;align-items: stretch;justify-content: center;background-color: white;position: relative;}#sk-container-id-2 div.sk-item::before, #sk-container-id-2 div.sk-parallel-item::before {content: \"\";position: absolute;border-left: 1px solid gray;box-sizing: border-box;top: 0;bottom: 0;left: 50%;z-index: -1;}#sk-container-id-2 div.sk-parallel-item {display: flex;flex-direction: column;z-index: 1;position: relative;background-color: white;}#sk-container-id-2 div.sk-parallel-item:first-child::after {align-self: flex-end;width: 50%;}#sk-container-id-2 div.sk-parallel-item:last-child::after {align-self: flex-start;width: 50%;}#sk-container-id-2 div.sk-parallel-item:only-child::after {width: 0;}#sk-container-id-2 div.sk-dashed-wrapped {border: 1px dashed gray;margin: 0 0.4em 0.5em 0.4em;box-sizing: border-box;padding-bottom: 0.4em;background-color: white;}#sk-container-id-2 div.sk-label label {font-family: monospace;font-weight: bold;display: inline-block;line-height: 1.2em;}#sk-container-id-2 div.sk-label-container {text-align: center;}#sk-container-id-2 div.sk-container {/* jupyter's `normalize.less` sets `[hidden] { display: none; }` but bootstrap.min.css set `[hidden] { display: none !important; }` so we also need the `!important` here to be able to override the default hidden behavior on the sphinx rendered scikit-learn.org. See: https://github.com/scikit-learn/scikit-learn/issues/21755 */display: inline-block !important;position: relative;}#sk-container-id-2 div.sk-text-repr-fallback {display: none;}</style><div id=\"sk-container-id-2\" class=\"sk-top-container\"><div class=\"sk-text-repr-fallback\"><pre>Pipeline(steps=[(&#x27;countvectorizer&#x27;, CountVectorizer(binary=True)),\n",
       "                (&#x27;logisticregression&#x27;, LogisticRegression())])</pre><b>In a Jupyter environment, please rerun this cell to show the HTML representation or trust the notebook. <br />On GitHub, the HTML representation is unable to render, please try loading this page with nbviewer.org.</b></div><div class=\"sk-container\" hidden><div class=\"sk-item sk-dashed-wrapped\"><div class=\"sk-label-container\"><div class=\"sk-label sk-toggleable\"><input class=\"sk-toggleable__control sk-hidden--visually\" id=\"sk-estimator-id-4\" type=\"checkbox\" ><label for=\"sk-estimator-id-4\" class=\"sk-toggleable__label sk-toggleable__label-arrow\">Pipeline</label><div class=\"sk-toggleable__content\"><pre>Pipeline(steps=[(&#x27;countvectorizer&#x27;, CountVectorizer(binary=True)),\n",
       "                (&#x27;logisticregression&#x27;, LogisticRegression())])</pre></div></div></div><div class=\"sk-serial\"><div class=\"sk-item\"><div class=\"sk-estimator sk-toggleable\"><input class=\"sk-toggleable__control sk-hidden--visually\" id=\"sk-estimator-id-5\" type=\"checkbox\" ><label for=\"sk-estimator-id-5\" class=\"sk-toggleable__label sk-toggleable__label-arrow\">CountVectorizer</label><div class=\"sk-toggleable__content\"><pre>CountVectorizer(binary=True)</pre></div></div></div><div class=\"sk-item\"><div class=\"sk-estimator sk-toggleable\"><input class=\"sk-toggleable__control sk-hidden--visually\" id=\"sk-estimator-id-6\" type=\"checkbox\" ><label for=\"sk-estimator-id-6\" class=\"sk-toggleable__label sk-toggleable__label-arrow\">LogisticRegression</label><div class=\"sk-toggleable__content\"><pre>LogisticRegression()</pre></div></div></div></div></div></div></div>"
      ],
      "text/plain": [
       "Pipeline(steps=[('countvectorizer', CountVectorizer(binary=True)),\n",
       "                ('logisticregression', LogisticRegression())])"
      ]
     },
     "execution_count": 11,
     "metadata": {},
     "output_type": "execute_result"
    }
   ],
   "source": [
    "log_pipeline.fit(X_train,y_train)"
   ]
  },
  {
   "cell_type": "code",
   "execution_count": 12,
   "id": "912767cf",
   "metadata": {},
   "outputs": [],
   "source": [
    "y_pred_log=log_pipeline.predict(X_test)"
   ]
  },
  {
   "cell_type": "markdown",
   "id": "d093553c",
   "metadata": {},
   "source": [
    "### TESTING WITH PERSONAL EMAILS"
   ]
  },
  {
   "cell_type": "code",
   "execution_count": 13,
   "id": "5ae4c18c",
   "metadata": {},
   "outputs": [],
   "source": [
    "def predictions(text):\n",
    "    text=[text]\n",
    "    bn_pred=bernoulli_pipeline.predict(text)\n",
    "    log_pred=log_pipeline.predict(text)\n",
    "    if bn_pred=='spam':\n",
    "        print('Bernoulli NB predicts Your email is spam!')\n",
    "    elif bn_pred=='ham':\n",
    "        print('Bernoulli NB predicts Your email is not spam!')\n",
    "    \n"
   ]
  },
  {
   "cell_type": "code",
   "execution_count": 14,
   "id": "d3e96a3b",
   "metadata": {},
   "outputs": [
    {
     "name": "stdout",
     "output_type": "stream",
     "text": [
      "Bernoulli NB predicts Your email is not spam!\n"
     ]
    }
   ],
   "source": [
    "predictions('They say don’t be afraid of growing slowly, but be afraid of stopping. So keep learning because your certificate in Machine Learning Course with your name on it is waiting for you.')"
   ]
  },
  {
   "cell_type": "code",
   "execution_count": 15,
   "id": "5426496c",
   "metadata": {},
   "outputs": [
    {
     "name": "stdout",
     "output_type": "stream",
     "text": [
      "Bernoulli NB predicts Your email is not spam!\n"
     ]
    }
   ],
   "source": [
    "predictions('We are conducting a research to see the opinions of project managers and data scientists on what are the best current practices for project management in data science and AI projects.Help us, fill the short questionnaire below, and we will publicly thank you on social media 🚀🚀🚀')"
   ]
  },
  {
   "cell_type": "code",
   "execution_count": 16,
   "id": "2ac31e51",
   "metadata": {},
   "outputs": [
    {
     "name": "stdout",
     "output_type": "stream",
     "text": [
      "Bernoulli NB predicts Your email is not spam!\n"
     ]
    }
   ],
   "source": [
    "predictions('This is your last chance to register for our digital marketing training…before we close down the registration portal in less than 3 hours and increase our tuition fees')"
   ]
  },
  {
   "cell_type": "code",
   "execution_count": 17,
   "id": "e8d2b8c1",
   "metadata": {},
   "outputs": [
    {
     "name": "stdout",
     "output_type": "stream",
     "text": [
      "Bernoulli NB predicts Your email is spam!\n"
     ]
    }
   ],
   "source": [
    "predictions('Check out this great opportunity from ... and get rewarded with free entry bonuses')"
   ]
  },
  {
   "cell_type": "markdown",
   "id": "15e07bae",
   "metadata": {},
   "source": [
    "### MODEL EVALUATION"
   ]
  },
  {
   "cell_type": "markdown",
   "id": "a4c2fcee",
   "metadata": {},
   "source": [
    "1. Cross Validation with accuracy"
   ]
  },
  {
   "cell_type": "code",
   "execution_count": 18,
   "id": "6cee11f8",
   "metadata": {},
   "outputs": [],
   "source": [
    "from sklearn.model_selection import cross_val_score"
   ]
  },
  {
   "cell_type": "code",
   "execution_count": 19,
   "id": "19db4fae",
   "metadata": {},
   "outputs": [
    {
     "name": "stdout",
     "output_type": "stream",
     "text": [
      "Mean accuracy score: 98%\n"
     ]
    },
    {
     "data": {
      "text/plain": [
       "array([0.99327354, 0.98430493, 0.98430493, 0.98654709, 0.97977528,\n",
       "       0.99101124, 0.98651685, 0.98876404, 0.98651685, 0.98202247])"
      ]
     },
     "execution_count": 19,
     "metadata": {},
     "output_type": "execute_result"
    }
   ],
   "source": [
    "#10-fold cross validation\n",
    "print('Mean accuracy score: 98%')\n",
    "cross_val_score(bernoulli_pipeline,X_train,y_train,cv=10,scoring='accuracy')\n"
   ]
  },
  {
   "cell_type": "code",
   "execution_count": 20,
   "id": "954e059e",
   "metadata": {},
   "outputs": [
    {
     "name": "stdout",
     "output_type": "stream",
     "text": [
      "Mean accuracy score: 98%\n"
     ]
    },
    {
     "data": {
      "text/plain": [
       "array([0.97982063, 0.97757848, 0.97533632, 0.98430493, 0.96853933,\n",
       "       0.98202247, 0.98876404, 0.98651685, 0.97977528, 0.98426966])"
      ]
     },
     "execution_count": 20,
     "metadata": {},
     "output_type": "execute_result"
    }
   ],
   "source": [
    "#10-fold cross validation\n",
    "print('Mean accuracy score: 98%')\n",
    "cross_val_score(log_pipeline,X_train,y_train,cv=10,scoring='accuracy')"
   ]
  },
  {
   "cell_type": "markdown",
   "id": "05f5fdea",
   "metadata": {},
   "source": [
    "2. Confusion matrix"
   ]
  },
  {
   "cell_type": "code",
   "execution_count": 21,
   "id": "1f6a9a0a",
   "metadata": {},
   "outputs": [],
   "source": [
    "from sklearn.metrics import confusion_matrix"
   ]
  },
  {
   "cell_type": "code",
   "execution_count": 22,
   "id": "60c03eee",
   "metadata": {},
   "outputs": [
    {
     "data": {
      "text/plain": [
       "array([[968,   1],\n",
       "       [ 11, 134]], dtype=int64)"
      ]
     },
     "execution_count": 22,
     "metadata": {},
     "output_type": "execute_result"
    }
   ],
   "source": [
    "comf=confusion_matrix(y_test,y_pred_bn)\n",
    "comf"
   ]
  },
  {
   "cell_type": "markdown",
   "id": "77e1ac3f",
   "metadata": {},
   "source": [
    "968 values were accurately predicted as not spam.<br>\n",
    "1 value was inaccurately predicted as not spam.<br>\n",
    "11 values were inaccurately predicted as spam.<br>\n",
    "134 values were accurately predicted as spam.<br>"
   ]
  },
  {
   "cell_type": "code",
   "execution_count": 23,
   "id": "1618795a",
   "metadata": {},
   "outputs": [
    {
     "data": {
      "text/plain": [
       "<matplotlib.image.AxesImage at 0x2c656fde040>"
      ]
     },
     "execution_count": 23,
     "metadata": {},
     "output_type": "execute_result"
    },
    {
     "data": {
      "image/png": "[encoded data removed]",
      "text/plain": [
       "<Figure size 288x288 with 1 Axes>"
      ]
     },
     "metadata": {
      "needs_background": "light"
     },
     "output_type": "display_data"
    }
   ],
   "source": [
    "plt.matshow(comf,cmap=plt.cm.gray)"
   ]
  },
  {
   "cell_type": "code",
   "execution_count": 24,
   "id": "32b2e5ed",
   "metadata": {},
   "outputs": [
    {
     "data": {
      "text/plain": [
       "array([[968,   1],\n",
       "       [ 17, 128]], dtype=int64)"
      ]
     },
     "execution_count": 24,
     "metadata": {},
     "output_type": "execute_result"
    }
   ],
   "source": [
    "conf_log=confusion_matrix(y_test,y_pred_log)\n",
    "conf_log"
   ]
  },
  {
   "cell_type": "markdown",
   "id": "07c7fe1b",
   "metadata": {},
   "source": [
    "968 values were accurately predicted as not spam.<br>\n",
    "1 value was inaccurately predicted as not spam.<br>\n",
    "17 values were inaccurately predicted as spam.<br>\n",
    "128 values were accurately predicted as spam.<br>"
   ]
  },
  {
   "cell_type": "markdown",
   "id": "ac08fa00",
   "metadata": {},
   "source": [
    "3. Classification report"
   ]
  },
  {
   "cell_type": "code",
   "execution_count": 25,
   "id": "120b90f5",
   "metadata": {},
   "outputs": [],
   "source": [
    "from sklearn.metrics import classification_report"
   ]
  },
  {
   "cell_type": "code",
   "execution_count": 26,
   "id": "63475357",
   "metadata": {},
   "outputs": [
    {
     "name": "stdout",
     "output_type": "stream",
     "text": [
      "              precision    recall  f1-score   support\n",
      "\n",
      "         ham       0.99      1.00      0.99       969\n",
      "        spam       0.99      0.92      0.96       145\n",
      "\n",
      "    accuracy                           0.99      1114\n",
      "   macro avg       0.99      0.96      0.98      1114\n",
      "weighted avg       0.99      0.99      0.99      1114\n",
      "\n"
     ]
    }
   ],
   "source": [
    "print(classification_report(y_test,y_pred_bn))"
   ]
  },
  {
   "cell_type": "code",
   "execution_count": 27,
   "id": "04e13820",
   "metadata": {},
   "outputs": [
    {
     "name": "stdout",
     "output_type": "stream",
     "text": [
      "              precision    recall  f1-score   support\n",
      "\n",
      "         ham       0.98      1.00      0.99       969\n",
      "        spam       0.99      0.88      0.93       145\n",
      "\n",
      "    accuracy                           0.98      1114\n",
      "   macro avg       0.99      0.94      0.96      1114\n",
      "weighted avg       0.98      0.98      0.98      1114\n",
      "\n"
     ]
    }
   ],
   "source": [
    "print(classification_report(y_test,y_pred_log))"
   ]
  },
  {
   "cell_type": "markdown",
   "id": "ddc51427",
   "metadata": {},
   "source": [
    "\n",
    "Precision: This is the accuracy of positive predictions. It is the ability of a classifier to not classify an instance as positive if its negative. Precision measures the number of emails our classifier currently predicted as spam<br>\n",
    "\n",
    "Precision=TP/(TP + FP)<BR>\n",
    "    \n",
    "A trivial way to get a perfect precision will be to predict one positive prediction and make sure it is correct(1/1=100%). This would not be very useful since the classifier would only focus on that one positive prediction and forget all other instances. So, precision is usually used along side another metric, recall.<br>\n",
    "    \n",
    "Recall: Also known as sensitivity or true positive rate(TPR). It is the ratio of positive instances correctly detected by the classifier. It is the ability of the classifier to find all the positive samples. Recall measures the amount of actual spam emails our classifier detected.<br>\n",
    "\n",
    "Recall=TP/(TP+FN)\n",
    "\n",
    "F1 favors classifiers that have similar precision and recall(although it mostly favors recall). This is not always what you want, sometimes, you might favor precision over recall or vice-versa. For example, if you train a detector that detects videos that are safe for kids, you would prefer high precision(safe videos) over low recall(good videos). Recall will detect all videos it considers safe but some unsafe videos might sneak in.<br>\n",
    "\n",
    "On the other hand, you might favor high recall and low precision if you're training a classifier to detect shoplifters on surveillance images. With high recall, the classifier detects all shoplifting instances(and some false alerts).\n",
    "\n",
    "However, you can't have it both ways, increasing precision decreases recall and vice-versa. This is called precision/recall trade-off."
   ]
  },
  {
   "cell_type": "markdown",
   "id": "e754f563",
   "metadata": {},
   "source": [
    "### SAVING MODEL"
   ]
  },
  {
   "cell_type": "code",
   "execution_count": 28,
   "id": "bc3ae0ef",
   "metadata": {},
   "outputs": [
    {
     "data": {
      "text/plain": [
       "['Bernoulli.joblib']"
      ]
     },
     "execution_count": 28,
     "metadata": {},
     "output_type": "execute_result"
    }
   ],
   "source": [
    "joblib.dump(bernoulli_pipeline,'Bernoulli.joblib')"
   ]
  },
  {
   "cell_type": "code",
   "execution_count": 29,
   "id": "222c8359",
   "metadata": {},
   "outputs": [
    {
     "data": {
      "text/plain": [
       "['LogisticReg.joblib']"
      ]
     },
     "execution_count": 29,
     "metadata": {},
     "output_type": "execute_result"
    }
   ],
   "source": [
    "joblib.dump(log_pipeline,'LogisticReg.joblib')"
   ]
  }
 ],
 "metadata": {
  "kernelspec": {
   "display_name": "Python 3",
   "language": "python",
   "name": "python3"
  },
  "language_info": {
   "codemirror_mode": {
    "name": "ipython",
    "version": 3
   },
   "file_extension": ".py",
   "mimetype": "text/x-python",
   "name": "python",
   "nbconvert_exporter": "python",
   "pygments_lexer": "ipython3",
   "version": "3.8.8"
  }
 },
 "nbformat": 4,
 "nbformat_minor": 5
}
